{
  "cells": [
    {
      "cell_type": "markdown",
      "metadata": {
        "id": "view-in-github",
        "colab_type": "text"
      },
      "source": [
        "<a href=\"https://colab.research.google.com/github/BigTMiami/colabtest/blob/main/Machine_Translation.ipynb\" target=\"_parent\"><img src=\"https://colab.research.google.com/assets/colab-badge.svg\" alt=\"Open In Colab\"/></a>"
      ]
    },
    {
      "cell_type": "markdown",
      "metadata": {
        "collapsed": true,
        "id": "dfJtyp5Kefgy"
      },
      "source": [
        "\n",
        "*Machine Translation Jupyter Notebook.  (c) 2021 Georgia Tech*\n",
        "\n",
        "*Copyright 2021, Georgia Institute of Technology (Georgia Tech) <br>Atlanta, Georgia 30332<br>All Rights Reserved*\n",
        "\n",
        "*Georgia Tech asserts copyright ownership of this template and all derivative works, including solutions to the projects assigned in this course. Students and other users of this template code are advised not to share it with others or to make it available on publicly viewable websites including repositories such as Github, Bitbucket, and Gitlab.  This copyright statement should not be removed or edited.*\n",
        "\n",
        "*Sharing solutions with current or future students of CS 7643 Deep Learning is prohibited and subject to being investigated as a GT honor code violation.*\n",
        "\n",
        "*DO NOT EDIT ANYTHING ABOVE THIS LINE*\n",
        "\n",
        "# Machine Translation with Seq2Seq and Transformers\n",
        "In this exercise you will implement a [Sequence to Sequence(Seq2Seq)](https://arxiv.org/abs/1703.03906) and a [Transformer](https://arxiv.org/pdf/1706.03762.pdf) model and use them to perform machine translation.\n",
        "\n",
        "**A quick note: if you receive the following TypeError \"super(type, obj): obj must be an instance or subtype of type\", try re-importing that part or restarting your kernel and re-running all cells.** Once you have finished making changes to the model constuctor, you can avoid this issue by commenting out all of the model instantiations after the first (e.g. lines starting with \"model = TransformerTranslator(*args, **kwargs)\")."
      ]
    },
    {
      "cell_type": "markdown",
      "metadata": {
        "id": "tmSlhfxwefg9"
      },
      "source": [
        "# ** 1: Introduction**\n",
        "\n",
        "## Multi30K: Multilingual English-German Image Descriptions\n",
        "\n",
        "[Multi30K](https://github.com/multi30k/dataset) is a dataset for machine translation tasks. It is a multilingual corpus containing English sentences and their German translation. In total it contains 31014 sentences(29000 for training, 1014 for validation, and 1000 for testing).\n",
        "As one example:\n",
        "\n",
        "En: `Two young, White males are outside near many bushes.`\n",
        "\n",
        "De: `Zwei junge weiße Männer sind im Freien in der Nähe vieler Büsche.`\n",
        "\n",
        "You can read more info about the dataset [here](https://arxiv.org/abs/1605.00459). The following parts of this assignment will be based on this dataset.\n",
        "\n",
        "## TorchText: A PyTorch Toolkit for Text Dataset and NLP Tasks\n",
        "[TorchText](https://github.com/pytorch/text) is a PyTorch package that consists of data processing utilities and popular datasets for natural language. They serve to help with data splitting and loading, token encoding, sequence padding, etc. You don't need to know about how TorchText works in detail, but you might want to know about why those classes are needed and what operations are necessary for machine translation. This knowledge can be migrated to all sequential data modeling. In the following parts, we will provide you with some code to help you understand.\n",
        "\n",
        " You can refer to torchtext's documentation(v0.9.0) [here](https://pytorch.org/text/).\n",
        "\n",
        "## Spacy\n",
        "Spacy is package designed for tokenization in many languages. Tokenization is a process of splitting raw text data into lists of tokens that can be further processed. Since TorchText only provides tokenizer for English, we will be using Spacy for our assignment.\n",
        "\n",
        "\n",
        "**Notice: For the following assignment, we strongly recommend you to work in a virtual python environment. We recommend Anaconda, a powerful environment control tool. You can download it [here](https://www.anaconda.com/products/individual)**."
      ]
    },
    {
      "cell_type": "markdown",
      "metadata": {
        "id": "O66UKOZnefg_"
      },
      "source": [
        "## ** 1.1: Prerequisites**\n",
        "Before you start this assignment, you need to have all required packages installed either on the terminal you are using, or in the virtual environment. Please make sure you have the following package installed:\n",
        "\n",
        "`PyTorch, TorchText, Spacy, Tqdm, Numpy`\n",
        "\n",
        "You can first check using either `pip freeze` in terminal or `conda list` in conda environment. Then run the following code block to make sure they can be imported."
      ]
    },
    {
      "cell_type": "code",
      "source": [
        "%pip install torchtext torch  spacy tqdm numpy jupyter notebook"
      ],
      "metadata": {
        "colab": {
          "base_uri": "https://localhost:8080/"
        },
        "id": "909NjxVQShyF",
        "outputId": "384bd4cc-314e-473d-8743-4c5017c7c6bd"
      },
      "execution_count": 2,
      "outputs": [
        {
          "output_type": "stream",
          "name": "stdout",
          "text": [
            "Requirement already satisfied: torchtext in /usr/local/lib/python3.10/dist-packages (0.16.0)\n",
            "Requirement already satisfied: torch in /usr/local/lib/python3.10/dist-packages (2.1.0+cu121)\n",
            "Requirement already satisfied: spacy in /usr/local/lib/python3.10/dist-packages (3.7.4)\n",
            "Requirement already satisfied: tqdm in /usr/local/lib/python3.10/dist-packages (4.66.2)\n",
            "Requirement already satisfied: numpy in /usr/local/lib/python3.10/dist-packages (1.25.2)\n",
            "Collecting jupyter\n",
            "  Downloading jupyter-1.0.0-py2.py3-none-any.whl (2.7 kB)\n",
            "Requirement already satisfied: notebook in /usr/local/lib/python3.10/dist-packages (6.5.5)\n",
            "Requirement already satisfied: requests in /usr/local/lib/python3.10/dist-packages (from torchtext) (2.31.0)\n",
            "Requirement already satisfied: torchdata==0.7.0 in /usr/local/lib/python3.10/dist-packages (from torchtext) (0.7.0)\n",
            "Requirement already satisfied: filelock in /usr/local/lib/python3.10/dist-packages (from torch) (3.13.1)\n",
            "Requirement already satisfied: typing-extensions in /usr/local/lib/python3.10/dist-packages (from torch) (4.10.0)\n",
            "Requirement already satisfied: sympy in /usr/local/lib/python3.10/dist-packages (from torch) (1.12)\n",
            "Requirement already satisfied: networkx in /usr/local/lib/python3.10/dist-packages (from torch) (3.2.1)\n",
            "Requirement already satisfied: jinja2 in /usr/local/lib/python3.10/dist-packages (from torch) (3.1.3)\n",
            "Requirement already satisfied: fsspec in /usr/local/lib/python3.10/dist-packages (from torch) (2023.6.0)\n",
            "Requirement already satisfied: triton==2.1.0 in /usr/local/lib/python3.10/dist-packages (from torch) (2.1.0)\n",
            "Requirement already satisfied: urllib3>=1.25 in /usr/local/lib/python3.10/dist-packages (from torchdata==0.7.0->torchtext) (2.0.7)\n",
            "Requirement already satisfied: spacy-legacy<3.1.0,>=3.0.11 in /usr/local/lib/python3.10/dist-packages (from spacy) (3.0.12)\n",
            "Requirement already satisfied: spacy-loggers<2.0.0,>=1.0.0 in /usr/local/lib/python3.10/dist-packages (from spacy) (1.0.5)\n",
            "Requirement already satisfied: murmurhash<1.1.0,>=0.28.0 in /usr/local/lib/python3.10/dist-packages (from spacy) (1.0.10)\n",
            "Requirement already satisfied: cymem<2.1.0,>=2.0.2 in /usr/local/lib/python3.10/dist-packages (from spacy) (2.0.8)\n",
            "Requirement already satisfied: preshed<3.1.0,>=3.0.2 in /usr/local/lib/python3.10/dist-packages (from spacy) (3.0.9)\n",
            "Requirement already satisfied: thinc<8.3.0,>=8.2.2 in /usr/local/lib/python3.10/dist-packages (from spacy) (8.2.3)\n",
            "Requirement already satisfied: wasabi<1.2.0,>=0.9.1 in /usr/local/lib/python3.10/dist-packages (from spacy) (1.1.2)\n",
            "Requirement already satisfied: srsly<3.0.0,>=2.4.3 in /usr/local/lib/python3.10/dist-packages (from spacy) (2.4.8)\n",
            "Requirement already satisfied: catalogue<2.1.0,>=2.0.6 in /usr/local/lib/python3.10/dist-packages (from spacy) (2.0.10)\n",
            "Requirement already satisfied: weasel<0.4.0,>=0.1.0 in /usr/local/lib/python3.10/dist-packages (from spacy) (0.3.4)\n",
            "Requirement already satisfied: typer<0.10.0,>=0.3.0 in /usr/local/lib/python3.10/dist-packages (from spacy) (0.9.0)\n",
            "Requirement already satisfied: smart-open<7.0.0,>=5.2.1 in /usr/local/lib/python3.10/dist-packages (from spacy) (6.4.0)\n",
            "Requirement already satisfied: pydantic!=1.8,!=1.8.1,<3.0.0,>=1.7.4 in /usr/local/lib/python3.10/dist-packages (from spacy) (2.6.3)\n",
            "Requirement already satisfied: setuptools in /usr/local/lib/python3.10/dist-packages (from spacy) (67.7.2)\n",
            "Requirement already satisfied: packaging>=20.0 in /usr/local/lib/python3.10/dist-packages (from spacy) (23.2)\n",
            "Requirement already satisfied: langcodes<4.0.0,>=3.2.0 in /usr/local/lib/python3.10/dist-packages (from spacy) (3.3.0)\n",
            "Collecting qtconsole (from jupyter)\n",
            "  Downloading qtconsole-5.5.1-py3-none-any.whl (123 kB)\n",
            "\u001b[2K     \u001b[90m━━━━━━━━━━━━━━━━━━━━━━━━━━━━━━━━━━━━━━━━\u001b[0m \u001b[32m123.4/123.4 kB\u001b[0m \u001b[31m3.8 MB/s\u001b[0m eta \u001b[36m0:00:00\u001b[0m\n",
            "\u001b[?25hRequirement already satisfied: jupyter-console in /usr/local/lib/python3.10/dist-packages (from jupyter) (6.1.0)\n",
            "Requirement already satisfied: nbconvert in /usr/local/lib/python3.10/dist-packages (from jupyter) (6.5.4)\n",
            "Requirement already satisfied: ipykernel in /usr/local/lib/python3.10/dist-packages (from jupyter) (5.5.6)\n",
            "Requirement already satisfied: ipywidgets in /usr/local/lib/python3.10/dist-packages (from jupyter) (7.7.1)\n",
            "Requirement already satisfied: tornado>=6.1 in /usr/local/lib/python3.10/dist-packages (from notebook) (6.3.3)\n",
            "Requirement already satisfied: pyzmq<25,>=17 in /usr/local/lib/python3.10/dist-packages (from notebook) (23.2.1)\n",
            "Requirement already satisfied: argon2-cffi in /usr/local/lib/python3.10/dist-packages (from notebook) (23.1.0)\n",
            "Requirement already satisfied: traitlets>=4.2.1 in /usr/local/lib/python3.10/dist-packages (from notebook) (5.7.1)\n",
            "Requirement already satisfied: jupyter-core>=4.6.1 in /usr/local/lib/python3.10/dist-packages (from notebook) (5.7.1)\n",
            "Requirement already satisfied: jupyter-client<8,>=5.3.4 in /usr/local/lib/python3.10/dist-packages (from notebook) (6.1.12)\n",
            "Requirement already satisfied: ipython-genutils in /usr/local/lib/python3.10/dist-packages (from notebook) (0.2.0)\n",
            "Requirement already satisfied: nbformat in /usr/local/lib/python3.10/dist-packages (from notebook) (5.9.2)\n",
            "Requirement already satisfied: nest-asyncio>=1.5 in /usr/local/lib/python3.10/dist-packages (from notebook) (1.6.0)\n",
            "Requirement already satisfied: Send2Trash>=1.8.0 in /usr/local/lib/python3.10/dist-packages (from notebook) (1.8.2)\n",
            "Requirement already satisfied: terminado>=0.8.3 in /usr/local/lib/python3.10/dist-packages (from notebook) (0.18.0)\n",
            "Requirement already satisfied: prometheus-client in /usr/local/lib/python3.10/dist-packages (from notebook) (0.20.0)\n",
            "Requirement already satisfied: nbclassic>=0.4.7 in /usr/local/lib/python3.10/dist-packages (from notebook) (1.0.0)\n",
            "Requirement already satisfied: python-dateutil>=2.1 in /usr/local/lib/python3.10/dist-packages (from jupyter-client<8,>=5.3.4->notebook) (2.8.2)\n",
            "Requirement already satisfied: platformdirs>=2.5 in /usr/local/lib/python3.10/dist-packages (from jupyter-core>=4.6.1->notebook) (4.2.0)\n",
            "Requirement already satisfied: jupyter-server>=1.8 in /usr/local/lib/python3.10/dist-packages (from nbclassic>=0.4.7->notebook) (1.24.0)\n",
            "Requirement already satisfied: notebook-shim>=0.2.3 in /usr/local/lib/python3.10/dist-packages (from nbclassic>=0.4.7->notebook) (0.2.4)\n",
            "Requirement already satisfied: lxml in /usr/local/lib/python3.10/dist-packages (from nbconvert->jupyter) (4.9.4)\n",
            "Requirement already satisfied: beautifulsoup4 in /usr/local/lib/python3.10/dist-packages (from nbconvert->jupyter) (4.12.3)\n",
            "Requirement already satisfied: bleach in /usr/local/lib/python3.10/dist-packages (from nbconvert->jupyter) (6.1.0)\n",
            "Requirement already satisfied: defusedxml in /usr/local/lib/python3.10/dist-packages (from nbconvert->jupyter) (0.7.1)\n",
            "Requirement already satisfied: entrypoints>=0.2.2 in /usr/local/lib/python3.10/dist-packages (from nbconvert->jupyter) (0.4)\n",
            "Requirement already satisfied: jupyterlab-pygments in /usr/local/lib/python3.10/dist-packages (from nbconvert->jupyter) (0.3.0)\n",
            "Requirement already satisfied: MarkupSafe>=2.0 in /usr/local/lib/python3.10/dist-packages (from nbconvert->jupyter) (2.1.5)\n",
            "Requirement already satisfied: mistune<2,>=0.8.1 in /usr/local/lib/python3.10/dist-packages (from nbconvert->jupyter) (0.8.4)\n",
            "Requirement already satisfied: nbclient>=0.5.0 in /usr/local/lib/python3.10/dist-packages (from nbconvert->jupyter) (0.9.0)\n",
            "Requirement already satisfied: pandocfilters>=1.4.1 in /usr/local/lib/python3.10/dist-packages (from nbconvert->jupyter) (1.5.1)\n",
            "Requirement already satisfied: pygments>=2.4.1 in /usr/local/lib/python3.10/dist-packages (from nbconvert->jupyter) (2.16.1)\n",
            "Requirement already satisfied: tinycss2 in /usr/local/lib/python3.10/dist-packages (from nbconvert->jupyter) (1.2.1)\n",
            "Requirement already satisfied: fastjsonschema in /usr/local/lib/python3.10/dist-packages (from nbformat->notebook) (2.19.1)\n",
            "Requirement already satisfied: jsonschema>=2.6 in /usr/local/lib/python3.10/dist-packages (from nbformat->notebook) (4.19.2)\n",
            "Requirement already satisfied: annotated-types>=0.4.0 in /usr/local/lib/python3.10/dist-packages (from pydantic!=1.8,!=1.8.1,<3.0.0,>=1.7.4->spacy) (0.6.0)\n",
            "Requirement already satisfied: pydantic-core==2.16.3 in /usr/local/lib/python3.10/dist-packages (from pydantic!=1.8,!=1.8.1,<3.0.0,>=1.7.4->spacy) (2.16.3)\n",
            "Requirement already satisfied: charset-normalizer<4,>=2 in /usr/local/lib/python3.10/dist-packages (from requests->torchtext) (3.3.2)\n",
            "Requirement already satisfied: idna<4,>=2.5 in /usr/local/lib/python3.10/dist-packages (from requests->torchtext) (3.6)\n",
            "Requirement already satisfied: certifi>=2017.4.17 in /usr/local/lib/python3.10/dist-packages (from requests->torchtext) (2024.2.2)\n",
            "Requirement already satisfied: ptyprocess in /usr/local/lib/python3.10/dist-packages (from terminado>=0.8.3->notebook) (0.7.0)\n",
            "Requirement already satisfied: blis<0.8.0,>=0.7.8 in /usr/local/lib/python3.10/dist-packages (from thinc<8.3.0,>=8.2.2->spacy) (0.7.11)\n",
            "Requirement already satisfied: confection<1.0.0,>=0.0.1 in /usr/local/lib/python3.10/dist-packages (from thinc<8.3.0,>=8.2.2->spacy) (0.1.4)\n",
            "Requirement already satisfied: click<9.0.0,>=7.1.1 in /usr/local/lib/python3.10/dist-packages (from typer<0.10.0,>=0.3.0->spacy) (8.1.7)\n",
            "Requirement already satisfied: cloudpathlib<0.17.0,>=0.7.0 in /usr/local/lib/python3.10/dist-packages (from weasel<0.4.0,>=0.1.0->spacy) (0.16.0)\n",
            "Requirement already satisfied: argon2-cffi-bindings in /usr/local/lib/python3.10/dist-packages (from argon2-cffi->notebook) (21.2.0)\n",
            "Requirement already satisfied: ipython>=5.0.0 in /usr/local/lib/python3.10/dist-packages (from ipykernel->jupyter) (7.34.0)\n",
            "Requirement already satisfied: widgetsnbextension~=3.6.0 in /usr/local/lib/python3.10/dist-packages (from ipywidgets->jupyter) (3.6.6)\n",
            "Requirement already satisfied: jupyterlab-widgets>=1.0.0 in /usr/local/lib/python3.10/dist-packages (from ipywidgets->jupyter) (3.0.10)\n",
            "Requirement already satisfied: prompt-toolkit!=3.0.0,!=3.0.1,<3.1.0,>=2.0.0 in /usr/local/lib/python3.10/dist-packages (from jupyter-console->jupyter) (3.0.43)\n",
            "Collecting qtpy>=2.4.0 (from qtconsole->jupyter)\n",
            "  Downloading QtPy-2.4.1-py3-none-any.whl (93 kB)\n",
            "\u001b[2K     \u001b[90m━━━━━━━━━━━━━━━━━━━━━━━━━━━━━━━━━━━━━━━━\u001b[0m \u001b[32m93.5/93.5 kB\u001b[0m \u001b[31m12.1 MB/s\u001b[0m eta \u001b[36m0:00:00\u001b[0m\n",
            "\u001b[?25hRequirement already satisfied: mpmath>=0.19 in /usr/local/lib/python3.10/dist-packages (from sympy->torch) (1.3.0)\n",
            "Collecting jedi>=0.16 (from ipython>=5.0.0->ipykernel->jupyter)\n",
            "  Downloading jedi-0.19.1-py2.py3-none-any.whl (1.6 MB)\n",
            "\u001b[2K     \u001b[90m━━━━━━━━━━━━━━━━━━━━━━━━━━━━━━━━━━━━━━━━\u001b[0m \u001b[32m1.6/1.6 MB\u001b[0m \u001b[31m67.4 MB/s\u001b[0m eta \u001b[36m0:00:00\u001b[0m\n",
            "\u001b[?25hRequirement already satisfied: decorator in /usr/local/lib/python3.10/dist-packages (from ipython>=5.0.0->ipykernel->jupyter) (4.4.2)\n",
            "Requirement already satisfied: pickleshare in /usr/local/lib/python3.10/dist-packages (from ipython>=5.0.0->ipykernel->jupyter) (0.7.5)\n",
            "Requirement already satisfied: backcall in /usr/local/lib/python3.10/dist-packages (from ipython>=5.0.0->ipykernel->jupyter) (0.2.0)\n",
            "Requirement already satisfied: matplotlib-inline in /usr/local/lib/python3.10/dist-packages (from ipython>=5.0.0->ipykernel->jupyter) (0.1.6)\n",
            "Requirement already satisfied: pexpect>4.3 in /usr/local/lib/python3.10/dist-packages (from ipython>=5.0.0->ipykernel->jupyter) (4.9.0)\n",
            "Requirement already satisfied: attrs>=22.2.0 in /usr/local/lib/python3.10/dist-packages (from jsonschema>=2.6->nbformat->notebook) (23.2.0)\n",
            "Requirement already satisfied: jsonschema-specifications>=2023.03.6 in /usr/local/lib/python3.10/dist-packages (from jsonschema>=2.6->nbformat->notebook) (2023.12.1)\n",
            "Requirement already satisfied: referencing>=0.28.4 in /usr/local/lib/python3.10/dist-packages (from jsonschema>=2.6->nbformat->notebook) (0.33.0)\n",
            "Requirement already satisfied: rpds-py>=0.7.1 in /usr/local/lib/python3.10/dist-packages (from jsonschema>=2.6->nbformat->notebook) (0.18.0)\n",
            "Requirement already satisfied: anyio<4,>=3.1.0 in /usr/local/lib/python3.10/dist-packages (from jupyter-server>=1.8->nbclassic>=0.4.7->notebook) (3.7.1)\n",
            "Requirement already satisfied: websocket-client in /usr/local/lib/python3.10/dist-packages (from jupyter-server>=1.8->nbclassic>=0.4.7->notebook) (1.7.0)\n",
            "Requirement already satisfied: wcwidth in /usr/local/lib/python3.10/dist-packages (from prompt-toolkit!=3.0.0,!=3.0.1,<3.1.0,>=2.0.0->jupyter-console->jupyter) (0.2.13)\n",
            "Requirement already satisfied: six>=1.5 in /usr/local/lib/python3.10/dist-packages (from python-dateutil>=2.1->jupyter-client<8,>=5.3.4->notebook) (1.16.0)\n",
            "Requirement already satisfied: cffi>=1.0.1 in /usr/local/lib/python3.10/dist-packages (from argon2-cffi-bindings->argon2-cffi->notebook) (1.16.0)\n",
            "Requirement already satisfied: soupsieve>1.2 in /usr/local/lib/python3.10/dist-packages (from beautifulsoup4->nbconvert->jupyter) (2.5)\n",
            "Requirement already satisfied: webencodings in /usr/local/lib/python3.10/dist-packages (from bleach->nbconvert->jupyter) (0.5.1)\n",
            "Requirement already satisfied: sniffio>=1.1 in /usr/local/lib/python3.10/dist-packages (from anyio<4,>=3.1.0->jupyter-server>=1.8->nbclassic>=0.4.7->notebook) (1.3.1)\n",
            "Requirement already satisfied: exceptiongroup in /usr/local/lib/python3.10/dist-packages (from anyio<4,>=3.1.0->jupyter-server>=1.8->nbclassic>=0.4.7->notebook) (1.2.0)\n",
            "Requirement already satisfied: pycparser in /usr/local/lib/python3.10/dist-packages (from cffi>=1.0.1->argon2-cffi-bindings->argon2-cffi->notebook) (2.21)\n",
            "Requirement already satisfied: parso<0.9.0,>=0.8.3 in /usr/local/lib/python3.10/dist-packages (from jedi>=0.16->ipython>=5.0.0->ipykernel->jupyter) (0.8.3)\n",
            "Installing collected packages: qtpy, jedi, qtconsole, jupyter\n",
            "Successfully installed jedi-0.19.1 jupyter-1.0.0 qtconsole-5.5.1 qtpy-2.4.1\n"
          ]
        }
      ]
    },
    {
      "cell_type": "code",
      "source": [
        "from google.colab import drive\n",
        "drive.mount(\"/content/drive\")\n",
        "%cd '/content/drive/MyDrive/assignment4_spring24'"
      ],
      "metadata": {
        "colab": {
          "base_uri": "https://localhost:8080/"
        },
        "id": "sLFFO34STMy4",
        "outputId": "16cc39ea-6479-42b7-cac6-18229ac212d4"
      },
      "execution_count": 3,
      "outputs": [
        {
          "output_type": "stream",
          "name": "stdout",
          "text": [
            "Mounted at /content/drive\n",
            "/content/drive/MyDrive/assignment4_spring24\n"
          ]
        }
      ]
    },
    {
      "cell_type": "code",
      "execution_count": 4,
      "metadata": {
        "id": "e9wH5bYVefhA"
      },
      "outputs": [],
      "source": [
        "# Just run this block. Please do not modify the following code.\n",
        "import math\n",
        "import time\n",
        "import io\n",
        "import numpy as np\n",
        "import csv\n",
        "from IPython.display import Image\n",
        "\n",
        "# Pytorch package\n",
        "import torch\n",
        "import torch.nn as nn\n",
        "import torch.optim as optim\n",
        "\n",
        "# Torchtest package\n",
        "import torchtext\n",
        "from torchtext.datasets import Multi30k\n",
        "from torch.utils.data import DataLoader\n",
        "from torchtext.data.utils import get_tokenizer\n",
        "from collections import Counter\n",
        "from torchtext.vocab import vocab\n",
        "from torchtext.utils import download_from_url, extract_archive\n",
        "from torch.nn.utils.rnn import pad_sequence\n",
        "\n",
        "# Tqdm progress bar\n",
        "from tqdm import tqdm_notebook, tqdm\n",
        "\n",
        "# Code provide to you for training and evaluation\n",
        "from utils import train, evaluate, set_seed_nb, unit_test_values, deterministic_init, plot_curves\n",
        "\n",
        "# for auto-reloading external modules\n",
        "# see http://stackoverflow.com/questions/1907993/autoreload-of-modules-in-ipython\n",
        "%load_ext autoreload\n",
        "%autoreload 2"
      ]
    },
    {
      "cell_type": "markdown",
      "metadata": {
        "id": "5malPk_1efhD"
      },
      "source": [
        "Once you properly import the above packages, you can proceed to download Spacy English and German tokenizers by running the following command in your **terminal**. They will take some time.\n",
        "\n",
        "`python -m spacy download en_core_web_sm`\n",
        "\n",
        "`python -m spacy download de_core_news_sm`"
      ]
    },
    {
      "cell_type": "markdown",
      "metadata": {
        "id": "CslQ00wNefhE"
      },
      "source": [
        "Now lets check your GPU availability and load some sanity checkers. By default you should be using your gpu for this assignment if you have one available."
      ]
    },
    {
      "cell_type": "code",
      "execution_count": null,
      "metadata": {
        "id": "tHOKA0U5efhF"
      },
      "outputs": [],
      "source": [
        "# Check device availability\n",
        "device = torch.device('cuda' if torch.cuda.is_available() else 'cpu')\n",
        "print(\"You are using device: %s\" % device)"
      ]
    },
    {
      "cell_type": "code",
      "execution_count": null,
      "metadata": {
        "id": "zJXBPulgefhH"
      },
      "outputs": [],
      "source": [
        "# load checkers\n",
        "d1 = torch.load('./data/d1.pt')\n",
        "d2 = torch.load('./data/d2.pt')\n",
        "d3 = torch.load('./data/d3.pt')\n",
        "d4 = torch.load('./data/d4.pt')"
      ]
    },
    {
      "cell_type": "markdown",
      "metadata": {
        "id": "FDmu06h_efhI"
      },
      "source": [
        "## **1.2: Preprocess Data**\n",
        "With TorchText and Spacy tokenizers ready, you can now prepare the data using *TorchText* objects. Just run the following code blocks. Read the comment and try to understand what they are for."
      ]
    },
    {
      "cell_type": "code",
      "execution_count": null,
      "metadata": {
        "id": "uWW68l46efhJ"
      },
      "outputs": [],
      "source": [
        "MAX_LEN = 20\n",
        "url_base = 'https://raw.githubusercontent.com/multi30k/dataset/master/data/task1/raw/'\n",
        "train_urls = ('train.de.gz', 'train.en.gz')\n",
        "val_urls = ('val.de.gz', 'val.en.gz')\n",
        "test_urls = ('test_2016_flickr.de.gz', 'test_2016_flickr.en.gz')\n",
        "\n",
        "train_filepaths = [extract_archive(download_from_url(url_base + url))[0] for url in train_urls]\n",
        "val_filepaths = [extract_archive(download_from_url(url_base + url))[0] for url in val_urls]\n",
        "test_filepaths = [extract_archive(download_from_url(url_base + url))[0] for url in test_urls]\n",
        "\n",
        "de_tokenizer = get_tokenizer('spacy', language='de_core_news_sm')\n",
        "en_tokenizer = get_tokenizer('spacy', language='en_core_web_sm')"
      ]
    },
    {
      "cell_type": "code",
      "execution_count": null,
      "metadata": {
        "id": "j5Rx2dPtefhK"
      },
      "outputs": [],
      "source": [
        "def build_vocab(filepath, tokenizer):\n",
        "  counter = Counter()\n",
        "  with io.open(filepath, encoding=\"utf8\") as f:\n",
        "    for string_ in f:\n",
        "      counter.update(tokenizer(string_.lower()))\n",
        "  return vocab(counter, specials=['<unk>', '<pad>', '<sos>', '<eos>'], min_freq=2)\n",
        "\n",
        "\n",
        "de_vocab = build_vocab(train_filepaths[0], de_tokenizer)\n",
        "en_vocab = build_vocab(train_filepaths[1], en_tokenizer)\n",
        "de_vocab.set_default_index(de_vocab['<unk>'])\n",
        "en_vocab.set_default_index(en_vocab['<unk>'])"
      ]
    },
    {
      "cell_type": "code",
      "execution_count": null,
      "metadata": {
        "id": "fCIRekFBefhL"
      },
      "outputs": [],
      "source": [
        "def data_process(filepaths):\n",
        "  raw_de_iter = iter(io.open(filepaths[0], encoding=\"utf8\"))\n",
        "  raw_en_iter = iter(io.open(filepaths[1], encoding=\"utf8\"))\n",
        "  data = []\n",
        "  for (raw_de, raw_en) in zip(raw_de_iter, raw_en_iter):\n",
        "    raw_en_l=raw_en.lower()     #turn sentences to lower case\n",
        "    raw_de_l=raw_de.lower()\n",
        "    de_tensor = torch.tensor([de_vocab[token] for token in de_tokenizer(raw_de_l)],\n",
        "                            dtype=torch.long)\n",
        "    en_tensor = torch.tensor([en_vocab[token] for token in en_tokenizer(raw_en_l)],\n",
        "                            dtype=torch.long)\n",
        "    if len(de_tensor) <= MAX_LEN-2 and len(en_tensor) <= MAX_LEN-2:\n",
        "        data.append((de_tensor, en_tensor))\n",
        "  return data"
      ]
    },
    {
      "cell_type": "code",
      "execution_count": null,
      "metadata": {
        "id": "SH0hV4WzefhM"
      },
      "outputs": [],
      "source": [
        "train_data = data_process(train_filepaths)\n",
        "val_data = data_process(val_filepaths)\n",
        "test_data = data_process(test_filepaths)"
      ]
    },
    {
      "cell_type": "code",
      "execution_count": null,
      "metadata": {
        "id": "KCMNnBQDefhM"
      },
      "outputs": [],
      "source": [
        "BATCH_SIZE = 128\n",
        "PAD_IDX = de_vocab['<pad>']\n",
        "SOS_IDX = de_vocab['<sos>']\n",
        "EOS_IDX = de_vocab['<eos>']"
      ]
    },
    {
      "cell_type": "code",
      "execution_count": null,
      "metadata": {
        "id": "ew_LjPRuefhO"
      },
      "outputs": [],
      "source": [
        "def generate_batch(data_batch):\n",
        "\n",
        "    de_batch, en_batch = [], []\n",
        "    for (de_item, en_item) in data_batch:\n",
        "          en_batch.append(torch.cat([torch.tensor([SOS_IDX]), en_item, torch.tensor([EOS_IDX])], dim=0))\n",
        "          de_batch.append(torch.cat([torch.tensor([SOS_IDX]), de_item, torch.tensor([EOS_IDX])], dim=0))\n",
        "    en_batch = pad_sequence(en_batch, padding_value=PAD_IDX)\n",
        "    de_batch = pad_sequence(de_batch, padding_value=PAD_IDX)\n",
        "    fix=torch.ones(MAX_LEN,en_batch.shape[1])\n",
        "    two= pad_sequence([de_batch,en_batch, fix], padding_value=PAD_IDX)\n",
        "    de_batch=two[:,0,]\n",
        "    en_batch=two[:,1,]\n",
        "    return de_batch, en_batch"
      ]
    },
    {
      "cell_type": "code",
      "execution_count": null,
      "metadata": {
        "id": "EyYhQwPvefhO"
      },
      "outputs": [],
      "source": [
        "train_loader = DataLoader(train_data, batch_size=BATCH_SIZE,\n",
        "                        shuffle=False, collate_fn=generate_batch)\n",
        "valid_loader = DataLoader(val_data, batch_size=BATCH_SIZE,\n",
        "                        shuffle=False, collate_fn=generate_batch)\n",
        "test_loader = DataLoader(test_data, batch_size=BATCH_SIZE,\n",
        "                       shuffle=False, collate_fn=generate_batch)"
      ]
    },
    {
      "cell_type": "code",
      "execution_count": null,
      "metadata": {
        "id": "xSE8cUDJefhP"
      },
      "outputs": [],
      "source": [
        "# Get the input and the output sizes for model\n",
        "input_size = len(de_vocab)\n",
        "output_size = len(en_vocab)\n",
        "print (input_size,output_size)"
      ]
    },
    {
      "cell_type": "markdown",
      "metadata": {
        "id": "l6yEbmAxefhR"
      },
      "source": [
        "# **2: Implement Vanilla RNN and LSTM**\n",
        "In this section, you will need to implement a Vanilla RNN and an LSTM unit using PyTorch Linear layers and nn.Parameter. This is designed to help you to understand how they work behind the scene. The code you will be working with is in *LSTM.py* and *RNN.py* under *naive* folder. Please refer to instructions among this notebook and those files.\n"
      ]
    },
    {
      "cell_type": "markdown",
      "metadata": {
        "id": "cTkd6oseefhS"
      },
      "source": [
        "## **2.1: Implement an RNN Unit**\n",
        "In this section you will be using PyTorch Linear layers and activations to implement a vanilla RNN unit. You are only implementing an RNN cell unit over one time step! The test case reflects this by having only one sequence. Please refer to the following structure and complete the code in RNN.py:"
      ]
    },
    {
      "cell_type": "code",
      "execution_count": 4,
      "metadata": {
        "id": "wE2lWSznefhS",
        "colab": {
          "base_uri": "https://localhost:8080/",
          "height": 619
        },
        "outputId": "fc6a5427-f5e7-49cb-89fb-0dbc13d3e3dc"
      },
      "outputs": [
        {
          "output_type": "execute_result",
          "data": {
            "image/png": "[encoded data removed]",
            "text/plain": [
              "<IPython.core.display.Image object>"
            ]
          },
          "metadata": {
            "image/png": {
              "width": 442,
              "height": 602
            }
          },
          "execution_count": 4
        }
      ],
      "source": [
        "Image (filename=\"imgs/RNN.png\", retina=True)"
      ]
    },
    {
      "cell_type": "markdown",
      "metadata": {
        "id": "OlBfQwuQefhT"
      },
      "source": [
        "Run the following block to check your implementation"
      ]
    },
    {
      "cell_type": "code",
      "execution_count": null,
      "metadata": {
        "id": "zehlTZ-uefhT"
      },
      "outputs": [],
      "source": [
        "from models.naive.RNN import VanillaRNN\n",
        "\n",
        "x1,x2 = (1,4), (-1,2)\n",
        "h1,h2 = (-1,2,0,4), (0,1,3,-1)\n",
        "batch = 4\n",
        "x = torch.FloatTensor(np.linspace(x1,x2,batch))\n",
        "h = torch.FloatTensor(np.linspace(h1,h2,batch))\n",
        "rnn = VanillaRNN(x.shape[-1], h.shape[-1], 3)\n",
        "\n",
        "expected_out, expected_hidden = unit_test_values('rnn')\n",
        "\n",
        "deterministic_init(rnn)\n",
        "out, hidden = rnn.forward(x,h)\n",
        "\n",
        "if out is not None:\n",
        "    print('Close to out: ', expected_out.allclose(out, atol=1e-4))\n",
        "    print('Close to hidden: ', expected_hidden.allclose(hidden, atol=1e-4))\n",
        "else:\n",
        "    print(\"NOT IMPLEMENTED\")"
      ]
    },
    {
      "cell_type": "markdown",
      "metadata": {
        "id": "zZwBWMZzefhU"
      },
      "source": [
        "## **2.2: Implement an LSTM Unit**\n",
        "In this section you will be using PyTorch nn.Parameter and activations to implement an LSTM unit. You can simply translate the following equations using nn.Parameter and PyTorch activation functions to build an LSTM from scratch:\n",
        "\\begin{array}{ll} \\\\\n",
        "    i_t = \\sigma(x_t.W_{ii}  + b_{ii} +  h_{t-1}.W_{hi} + b_{hi}) \\\\\n",
        "    f_t = \\sigma(x_t.W_{if} + b_{if} +  h_{t-1}.W_{hf} + b_{hf}) \\\\\n",
        "    g_t = \\tanh(x_t.W_{ig} + b_{ig} +  h_{t-1}.W_{hg} + b_{hg}) \\\\\n",
        "    o_t = \\sigma( x_t.W_{io} + b_{io} +  h_{t-1}.W_{ho} + b_{ho}) \\\\\n",
        "    c_t = f_t \\odot c_{t-1} + i_t \\odot g_t \\\\\n",
        "    h_t = o_t \\odot \\tanh(c_t) \\\\\n",
        "\\end{array}\n",
        "\n",
        "Here's a great visualization of the above equation from [Colah's blog](https://colah.github.io/posts/2015-08-Understanding-LSTMs/) to help you understand LSTM unit. You can also read more about it from that blog."
      ]
    },
    {
      "cell_type": "code",
      "execution_count": null,
      "metadata": {
        "id": "e9UXDqSnefhU"
      },
      "outputs": [],
      "source": [
        "Image (filename=\"imgs/lstm.png\", retina=True)"
      ]
    },
    {
      "cell_type": "markdown",
      "metadata": {
        "id": "mKvbp1hxefhV"
      },
      "source": [
        "If you want to see nn.Parameter in example, check out this [tutorial](https://pytorch.org/tutorials/beginner/nn_tutorial.html) from PyTorch. Run the following block to check your implementation.\n",
        "\n",
        "Note that in this case we are implementing a full loop with LSTM, iterating over each time step. The test cases reflect this as there are multiple sequences."
      ]
    },
    {
      "cell_type": "code",
      "execution_count": null,
      "metadata": {
        "id": "OAv7qLRuefhV"
      },
      "outputs": [],
      "source": [
        "\n",
        "%autoreload 2\n",
        "\n",
        "from models.naive.LSTM import LSTM\n",
        "\n",
        "set_seed_nb()\n",
        "x1,x2 = np.mgrid[-1:3:3j, -1:4:2j]\n",
        "h1,h2 = np.mgrid[-2:2:3j, 1:3:4j]\n",
        "batch = 4\n",
        "x = torch.FloatTensor(np.linspace(x1,x2,batch))\n",
        "h = torch.FloatTensor(np.linspace(h1,h2,batch))\n",
        "\n",
        "expected_ht, expected_ct = unit_test_values('lstm')\n",
        "\n",
        "lstm = LSTM(x.shape[-1], h.shape[-1])\n",
        "deterministic_init(lstm)\n",
        "h_t, c_t = lstm.forward(x)\n",
        "\n",
        "if h_t is not None:\n",
        "    print('Close to h_t: ', expected_ht.allclose(h_t, atol=1e-4))\n",
        "    print('Close to c_t; ', expected_ct.allclose(c_t, atol=1e-4))\n",
        "else:\n",
        "    print(\"NOT IMPLEMENTED\")"
      ]
    },
    {
      "cell_type": "markdown",
      "metadata": {
        "id": "v7zKygJLefhW"
      },
      "source": [
        "# **3: Train a Seq2Seq Model**\n",
        "In this section, you will be working on implementing a simple Seq2Seq model. You will first implement an Encoder and a Decoder, and then join them together with a Seq2Seq architecture. You will need to complete the code in *Decoder.py*, *Encoder.py*, and *Seq2Seq.py* under *seq2seq* folder. Please refer to the instructions in those files."
      ]
    },
    {
      "cell_type": "markdown",
      "metadata": {
        "id": "oUL7qUZKefhW"
      },
      "source": [
        "## **3.1: Implement the Encoder**\n",
        "In this section you will be implementing an RNN/LSTM based encoder to model English texts. Please refer to the instructions in *seq2seq/Encoder.py*. Run the following block to check your implementation."
      ]
    },
    {
      "cell_type": "code",
      "execution_count": 5,
      "metadata": {
        "id": "FWXBz_FaefhX",
        "colab": {
          "base_uri": "https://localhost:8080/"
        },
        "outputId": "a17fbed3-fc8e-4000-f920-00ca9a92e8f7"
      },
      "outputs": [
        {
          "output_type": "stream",
          "name": "stdout",
          "text": [
            "Close to out:  True\n",
            "Close to hidden:  True\n"
          ]
        }
      ],
      "source": [
        "%autoreload 2\n",
        "from models.seq2seq.Encoder import Encoder\n",
        "\n",
        "set_seed_nb()\n",
        "i, n, h = 10, 4, 2\n",
        "\n",
        "encoder = Encoder(i, n, h, h)\n",
        "x_array = np.random.rand(5,2) * 10\n",
        "x = torch.LongTensor(x_array)\n",
        "out, hidden = encoder.forward(x)\n",
        "\n",
        "expected_out, expected_hidden = unit_test_values('encoder')\n",
        "\n",
        "if out is not None:\n",
        "    print('Close to out: ', expected_out.allclose(out, atol=1e-4))\n",
        "    # print(f'Out:{out}')\n",
        "    # print(f'expected_out:{expected_out}')\n",
        "    print('Close to hidden: ', expected_hidden.allclose(hidden, atol=1e-4))\n",
        "else:\n",
        "    print(\"NOT IMPLEMENTED\")"
      ]
    },
    {
      "cell_type": "markdown",
      "metadata": {
        "id": "o7XOnp0LefhX"
      },
      "source": [
        "## **3.2: Implement the Decoder**\n",
        "In this section you will be implementing an RNN/LSTM based decoder to model German texts. Please refer to the instructions in *seq2seq/Decoder.py*. Run the following block to check your implementation."
      ]
    },
    {
      "cell_type": "code",
      "execution_count": 6,
      "metadata": {
        "id": "zipyUgVJefhY",
        "colab": {
          "base_uri": "https://localhost:8080/"
        },
        "outputId": "0ed7dbb5-c433-4fca-da9e-680386184c74"
      },
      "outputs": [
        {
          "output_type": "stream",
          "name": "stdout",
          "text": [
            "Close to out:  True\n",
            "Close to hidden:  True\n"
          ]
        }
      ],
      "source": [
        "%autoreload 2\n",
        "from models.seq2seq.Decoder import Decoder\n",
        "\n",
        "set_seed_nb()\n",
        "i, n, h =  10, 2, 2\n",
        "decoder = Decoder(h, n, n, i)\n",
        "x_array = np.random.rand(5, 2) * 10\n",
        "x = torch.LongTensor(x_array[:,0]).unsqueeze(1) #decoder input is the first sequence\n",
        "enc_out, enc_hidden = unit_test_values('encoder')\n",
        "out, hidden = decoder.forward(x,enc_hidden)\n",
        "\n",
        "expected_out, expected_hidden = unit_test_values('decoder')\n",
        "if out is not None:\n",
        "    # print(f\"out: {out[0]}\")\n",
        "    # print(f\"expected_out: {expected_out[0]}\")\n",
        "    print('Close to out: ', expected_out.allclose(out, atol=1e-4))\n",
        "    print('Close to hidden: ', expected_hidden.allclose(hidden, atol=1e-4))\n",
        "else:\n",
        "    print(\"NOT IMPLEMENTED\")"
      ]
    },
    {
      "cell_type": "code",
      "execution_count": 7,
      "metadata": {
        "id": "UT0EX3dicsaw",
        "colab": {
          "base_uri": "https://localhost:8080/"
        },
        "outputId": "8823c28b-52ad-4fd7-ef57-87f1e84b9427"
      },
      "outputs": [
        {
          "output_type": "stream",
          "name": "stdout",
          "text": [
            "Close to attention_prob:  True\n"
          ]
        }
      ],
      "source": [
        "#test computing attention probabilities\n",
        "%autoreload 2\n",
        "set_seed_nb()\n",
        "hidden, enc_out, expected_attention_prob = unit_test_values('attention')\n",
        "attention_prob=decoder.compute_attention(hidden, enc_out)\n",
        "\n",
        "if attention_prob is not None:\n",
        "  print('Close to attention_prob: ', expected_attention_prob.allclose(attention_prob, atol=1e-4))\n",
        "  # print(f\"Predicted:{attention_prob}\")\n",
        "  # print(f\"Expected:{expected_attention_prob}\")\n",
        "else:\n",
        "    print(\"NOT IMPLEMENTED\")"
      ]
    },
    {
      "cell_type": "markdown",
      "metadata": {
        "id": "fBXsJFeTefhZ"
      },
      "source": [
        "## **3.3: Implement the Seq2Seq**\n",
        "In this section you will be implementing the Seq2Seq model that utilizes the Encoder and Decoder you implemented. Please refer to the instructions in *seq2seq/Seq2Seq.py*. Run the following block to check your implementation."
      ]
    },
    {
      "cell_type": "code",
      "execution_count": 8,
      "metadata": {
        "id": "-zZekFRXefhZ",
        "colab": {
          "base_uri": "https://localhost:8080/",
          "height": 401
        },
        "outputId": "52da5ae2-30dc-42a1-9f91-983109c9de37"
      },
      "outputs": [
        {
          "output_type": "stream",
          "name": "stdout",
          "text": [
            "Close to out:  True\n",
            "seq_len:2\n",
            "attention_prob.shape: torch.Size([2, 1, 2]) encoder_outputs.shape: torch.Size([2, 2, 32])\n"
          ]
        },
        {
          "output_type": "error",
          "ename": "RuntimeError",
          "evalue": "The size of tensor a (2) must match the size of tensor b (32) at non-singleton dimension 2",
          "traceback": [
            "\u001b[0;31m---------------------------------------------------------------------------\u001b[0m",
            "\u001b[0;31mRuntimeError\u001b[0m                              Traceback (most recent call last)",
            "\u001b[0;32m<ipython-input-8-49bc77f66569>\u001b[0m in \u001b[0;36m<cell line: 30>\u001b[0;34m()\u001b[0m\n\u001b[1;32m     28\u001b[0m \u001b[0mseq2seq\u001b[0m \u001b[0;34m=\u001b[0m \u001b[0mSeq2Seq\u001b[0m\u001b[0;34m(\u001b[0m\u001b[0mencoder\u001b[0m\u001b[0;34m,\u001b[0m \u001b[0mdecoder\u001b[0m\u001b[0;34m,\u001b[0m \u001b[0;34m'cpu'\u001b[0m\u001b[0;34m,\u001b[0m \u001b[0mattention\u001b[0m\u001b[0;34m=\u001b[0m\u001b[0;32mTrue\u001b[0m\u001b[0;34m)\u001b[0m\u001b[0;34m\u001b[0m\u001b[0;34m\u001b[0m\u001b[0m\n\u001b[1;32m     29\u001b[0m \u001b[0mprint\u001b[0m\u001b[0;34m(\u001b[0m\u001b[0;34mf\"seq_len:{x.shape[1]}\"\u001b[0m\u001b[0;34m)\u001b[0m\u001b[0;34m\u001b[0m\u001b[0;34m\u001b[0m\u001b[0m\n\u001b[0;32m---> 30\u001b[0;31m \u001b[0mout_attention\u001b[0m \u001b[0;34m=\u001b[0m \u001b[0mseq2seq\u001b[0m\u001b[0;34m.\u001b[0m\u001b[0mforward\u001b[0m\u001b[0;34m(\u001b[0m\u001b[0mx\u001b[0m\u001b[0;34m)\u001b[0m\u001b[0;34m\u001b[0m\u001b[0;34m\u001b[0m\u001b[0m\n\u001b[0m\u001b[1;32m     31\u001b[0m \u001b[0;34m\u001b[0m\u001b[0m\n\u001b[1;32m     32\u001b[0m \u001b[0;32mif\u001b[0m \u001b[0mout_attention\u001b[0m \u001b[0;32mis\u001b[0m \u001b[0;32mnot\u001b[0m \u001b[0;32mNone\u001b[0m\u001b[0;34m:\u001b[0m\u001b[0;34m\u001b[0m\u001b[0;34m\u001b[0m\u001b[0m\n",
            "\u001b[0;32m/content/drive/MyDrive/assignment4_spring24/models/seq2seq/Seq2Seq.py\u001b[0m in \u001b[0;36mforward\u001b[0;34m(self, source, out_seq_len)\u001b[0m\n\u001b[1;32m     87\u001b[0m \u001b[0;34m\u001b[0m\u001b[0m\n\u001b[1;32m     88\u001b[0m         \u001b[0;32mfor\u001b[0m \u001b[0mt\u001b[0m \u001b[0;32min\u001b[0m \u001b[0mrange\u001b[0m\u001b[0;34m(\u001b[0m\u001b[0mseq_len\u001b[0m\u001b[0;34m)\u001b[0m\u001b[0;34m:\u001b[0m\u001b[0;34m\u001b[0m\u001b[0;34m\u001b[0m\u001b[0m\n\u001b[0;32m---> 89\u001b[0;31m             \u001b[0moutput\u001b[0m\u001b[0;34m,\u001b[0m \u001b[0mhidden\u001b[0m \u001b[0;34m=\u001b[0m \u001b[0mself\u001b[0m\u001b[0;34m.\u001b[0m\u001b[0mdecoder\u001b[0m\u001b[0;34m(\u001b[0m\u001b[0minput\u001b[0m\u001b[0;34m,\u001b[0m \u001b[0mhidden\u001b[0m\u001b[0;34m,\u001b[0m \u001b[0mencoder_output\u001b[0m\u001b[0;34m,\u001b[0m \u001b[0mself\u001b[0m\u001b[0;34m.\u001b[0m\u001b[0mattention\u001b[0m\u001b[0;34m)\u001b[0m\u001b[0;34m\u001b[0m\u001b[0;34m\u001b[0m\u001b[0m\n\u001b[0m\u001b[1;32m     90\u001b[0m             \u001b[0moutputs\u001b[0m\u001b[0;34m[\u001b[0m\u001b[0;34m:\u001b[0m\u001b[0;34m,\u001b[0m \u001b[0mt\u001b[0m\u001b[0;34m]\u001b[0m \u001b[0;34m=\u001b[0m \u001b[0moutput\u001b[0m\u001b[0;34m\u001b[0m\u001b[0;34m\u001b[0m\u001b[0m\n\u001b[1;32m     91\u001b[0m             \u001b[0minput\u001b[0m \u001b[0;34m=\u001b[0m \u001b[0mtorch\u001b[0m\u001b[0;34m.\u001b[0m\u001b[0margmax\u001b[0m\u001b[0;34m(\u001b[0m\u001b[0moutput\u001b[0m\u001b[0;34m,\u001b[0m \u001b[0mdim\u001b[0m\u001b[0;34m=\u001b[0m\u001b[0;36m1\u001b[0m\u001b[0;34m)\u001b[0m\u001b[0;34m.\u001b[0m\u001b[0munsqueeze\u001b[0m\u001b[0;34m(\u001b[0m\u001b[0;36m1\u001b[0m\u001b[0;34m)\u001b[0m\u001b[0;34m\u001b[0m\u001b[0;34m\u001b[0m\u001b[0m\n",
            "\u001b[0;32m/usr/local/lib/python3.10/dist-packages/torch/nn/modules/module.py\u001b[0m in \u001b[0;36m_wrapped_call_impl\u001b[0;34m(self, *args, **kwargs)\u001b[0m\n\u001b[1;32m   1516\u001b[0m             \u001b[0;32mreturn\u001b[0m \u001b[0mself\u001b[0m\u001b[0;34m.\u001b[0m\u001b[0m_compiled_call_impl\u001b[0m\u001b[0;34m(\u001b[0m\u001b[0;34m*\u001b[0m\u001b[0margs\u001b[0m\u001b[0;34m,\u001b[0m \u001b[0;34m**\u001b[0m\u001b[0mkwargs\u001b[0m\u001b[0;34m)\u001b[0m  \u001b[0;31m# type: ignore[misc]\u001b[0m\u001b[0;34m\u001b[0m\u001b[0;34m\u001b[0m\u001b[0m\n\u001b[1;32m   1517\u001b[0m         \u001b[0;32melse\u001b[0m\u001b[0;34m:\u001b[0m\u001b[0;34m\u001b[0m\u001b[0;34m\u001b[0m\u001b[0m\n\u001b[0;32m-> 1518\u001b[0;31m             \u001b[0;32mreturn\u001b[0m \u001b[0mself\u001b[0m\u001b[0;34m.\u001b[0m\u001b[0m_call_impl\u001b[0m\u001b[0;34m(\u001b[0m\u001b[0;34m*\u001b[0m\u001b[0margs\u001b[0m\u001b[0;34m,\u001b[0m \u001b[0;34m**\u001b[0m\u001b[0mkwargs\u001b[0m\u001b[0;34m)\u001b[0m\u001b[0;34m\u001b[0m\u001b[0;34m\u001b[0m\u001b[0m\n\u001b[0m\u001b[1;32m   1519\u001b[0m \u001b[0;34m\u001b[0m\u001b[0m\n\u001b[1;32m   1520\u001b[0m     \u001b[0;32mdef\u001b[0m \u001b[0m_call_impl\u001b[0m\u001b[0;34m(\u001b[0m\u001b[0mself\u001b[0m\u001b[0;34m,\u001b[0m \u001b[0;34m*\u001b[0m\u001b[0margs\u001b[0m\u001b[0;34m,\u001b[0m \u001b[0;34m**\u001b[0m\u001b[0mkwargs\u001b[0m\u001b[0;34m)\u001b[0m\u001b[0;34m:\u001b[0m\u001b[0;34m\u001b[0m\u001b[0;34m\u001b[0m\u001b[0m\n",
            "\u001b[0;32m/usr/local/lib/python3.10/dist-packages/torch/nn/modules/module.py\u001b[0m in \u001b[0;36m_call_impl\u001b[0;34m(self, *args, **kwargs)\u001b[0m\n\u001b[1;32m   1525\u001b[0m                 \u001b[0;32mor\u001b[0m \u001b[0m_global_backward_pre_hooks\u001b[0m \u001b[0;32mor\u001b[0m \u001b[0m_global_backward_hooks\u001b[0m\u001b[0;34m\u001b[0m\u001b[0;34m\u001b[0m\u001b[0m\n\u001b[1;32m   1526\u001b[0m                 or _global_forward_hooks or _global_forward_pre_hooks):\n\u001b[0;32m-> 1527\u001b[0;31m             \u001b[0;32mreturn\u001b[0m \u001b[0mforward_call\u001b[0m\u001b[0;34m(\u001b[0m\u001b[0;34m*\u001b[0m\u001b[0margs\u001b[0m\u001b[0;34m,\u001b[0m \u001b[0;34m**\u001b[0m\u001b[0mkwargs\u001b[0m\u001b[0;34m)\u001b[0m\u001b[0;34m\u001b[0m\u001b[0;34m\u001b[0m\u001b[0m\n\u001b[0m\u001b[1;32m   1528\u001b[0m \u001b[0;34m\u001b[0m\u001b[0m\n\u001b[1;32m   1529\u001b[0m         \u001b[0;32mtry\u001b[0m\u001b[0;34m:\u001b[0m\u001b[0;34m\u001b[0m\u001b[0;34m\u001b[0m\u001b[0m\n",
            "\u001b[0;32m/content/drive/MyDrive/assignment4_spring24/models/seq2seq/Decoder.py\u001b[0m in \u001b[0;36mforward\u001b[0;34m(self, input, hidden, encoder_outputs, attention)\u001b[0m\n\u001b[1;32m    139\u001b[0m                 \u001b[0mattention_prob\u001b[0m \u001b[0;34m=\u001b[0m \u001b[0mself\u001b[0m\u001b[0;34m.\u001b[0m\u001b[0mcompute_attention\u001b[0m\u001b[0;34m(\u001b[0m\u001b[0mhidden\u001b[0m\u001b[0;34m,\u001b[0m \u001b[0mencoder_outputs\u001b[0m\u001b[0;34m)\u001b[0m\u001b[0;34m\u001b[0m\u001b[0;34m\u001b[0m\u001b[0m\n\u001b[1;32m    140\u001b[0m                 \u001b[0mprint\u001b[0m\u001b[0;34m(\u001b[0m\u001b[0;34mf\"attention_prob.shape: {attention_prob.shape} encoder_outputs.shape: {encoder_outputs.shape}\"\u001b[0m\u001b[0;34m)\u001b[0m\u001b[0;34m\u001b[0m\u001b[0;34m\u001b[0m\u001b[0m\n\u001b[0;32m--> 141\u001b[0;31m                 \u001b[0mhidden\u001b[0m \u001b[0;34m=\u001b[0m \u001b[0mattention_prob\u001b[0m \u001b[0;34m*\u001b[0m \u001b[0mencoder_outputs\u001b[0m\u001b[0;34m\u001b[0m\u001b[0;34m\u001b[0m\u001b[0m\n\u001b[0m\u001b[1;32m    142\u001b[0m             \u001b[0;32melif\u001b[0m \u001b[0mself\u001b[0m\u001b[0;34m.\u001b[0m\u001b[0mmodel_type\u001b[0m \u001b[0;34m==\u001b[0m \u001b[0;34m\"LSTM\"\u001b[0m\u001b[0;34m:\u001b[0m\u001b[0;34m\u001b[0m\u001b[0;34m\u001b[0m\u001b[0m\n\u001b[1;32m    143\u001b[0m                 \u001b[0;34m(\u001b[0m\u001b[0mhidden_context\u001b[0m\u001b[0;34m,\u001b[0m \u001b[0mcell_context\u001b[0m\u001b[0;34m)\u001b[0m \u001b[0;34m=\u001b[0m \u001b[0mhidden\u001b[0m\u001b[0;34m\u001b[0m\u001b[0;34m\u001b[0m\u001b[0m\n",
            "\u001b[0;31mRuntimeError\u001b[0m: The size of tensor a (2) must match the size of tensor b (32) at non-singleton dimension 2"
          ]
        }
      ],
      "source": [
        "%autoreload 2\n",
        "from models.seq2seq.Seq2Seq import Seq2Seq\n",
        "from models.seq2seq.Decoder import Decoder\n",
        "\n",
        "set_seed_nb()\n",
        "embedding_size = 32\n",
        "hidden_size = 32\n",
        "input_size = 8\n",
        "output_size = 8\n",
        "batch, seq = 2, 2\n",
        "\n",
        "encoder = Encoder(input_size, embedding_size, hidden_size, hidden_size)\n",
        "decoder = Decoder(embedding_size, hidden_size, hidden_size, output_size)\n",
        "\n",
        "seq2seq = Seq2Seq(encoder, decoder, 'cpu')\n",
        "x_array = np.random.rand(batch, seq) * 10\n",
        "x = torch.LongTensor(x_array)\n",
        "out = seq2seq.forward(x)\n",
        "\n",
        "if out is not None:\n",
        "    expected_out = unit_test_values('seq2seq')\n",
        "    print('Close to out: ', expected_out.allclose(out, atol=1e-4))\n",
        "\n",
        "else:\n",
        "    print(\"NOT IMPLEMENTED\")\n",
        "\n",
        "# now lets test seq2seq with attention\n",
        "seq2seq = Seq2Seq(encoder, decoder, 'cpu', attention=True)\n",
        "print(f\"seq_len:{x.shape[1]}\")\n",
        "out_attention = seq2seq.forward(x)\n",
        "\n",
        "if out_attention is not None:\n",
        "    expected_out = unit_test_values('seq2seq_attention')\n",
        "    print('Close to out_attention: ', expected_out.allclose(out_attention, atol=1e-4))\n",
        "    print(f\"Expected:{expected_out}\")\n",
        "    print(f\"out_attention:{out_attention}\")\n",
        "else:\n",
        "    print(\"SEQ2SEQ ATTENTION NOT IMPLEMENTED\")\n"
      ]
    },
    {
      "cell_type": "markdown",
      "metadata": {
        "id": "XYB7O3D1efha"
      },
      "source": [
        "## **3.4: Train your Seq2Seq model**\n",
        "Now it's time to combine what we have and train a Seq2Seq translator. We provided you with some training code and you can simply run them to see how your translator works. If you implemented everything correctly, you should see some meaningful translation in the output. You can modify the hyperparameters to improve the results. You can also tune the BATCH_SIZE in section 1.2."
      ]
    },
    {
      "cell_type": "code",
      "execution_count": null,
      "metadata": {
        "id": "1yuG_96Wefha"
      },
      "outputs": [],
      "source": [
        "# Hyperparameters. You are welcome to modify these\n",
        "encoder_emb_size = 128\n",
        "encoder_hidden_size = 128\n",
        "encoder_dropout = 0.2\n",
        "\n",
        "decoder_emb_size = 128\n",
        "decoder_hidden_size = 128\n",
        "decoder_dropout = 0.2\n",
        "\n",
        "learning_rate = 1e-3\n",
        "model_type = \"RNN\"\n",
        "\n",
        "EPOCHS = 20\n",
        "\n",
        "#input size and output size\n",
        "input_size = len(de_vocab)\n",
        "output_size = len(en_vocab)"
      ]
    },
    {
      "cell_type": "code",
      "execution_count": null,
      "metadata": {
        "id": "Qg2a3Xgjefha"
      },
      "outputs": [],
      "source": [
        "# Declare models, optimizer, and loss function\n",
        "set_seed_nb()\n",
        "encoder = Encoder(input_size, encoder_emb_size, encoder_hidden_size, decoder_hidden_size, dropout = encoder_dropout, model_type = model_type)\n",
        "decoder = Decoder(decoder_emb_size, encoder_hidden_size, encoder_hidden_size, output_size, dropout = decoder_dropout, model_type = model_type)\n",
        "seq2seq_model = Seq2Seq(encoder, decoder, device, attention=False)\n",
        "\n",
        "optimizer = optim.Adam(seq2seq_model.parameters(), lr = learning_rate)\n",
        "scheduler = torch.optim.lr_scheduler.ReduceLROnPlateau(optimizer)\n",
        "criterion = nn.CrossEntropyLoss(ignore_index=PAD_IDX)"
      ]
    },
    {
      "cell_type": "code",
      "execution_count": null,
      "metadata": {
        "id": "vQyPYCX6ShY_"
      },
      "outputs": [],
      "source": [
        "def train_and_plot (model, optimizer, scheduler, criterion, filename):\n",
        "  train_perplexity_history = []\n",
        "  valid_perplexity_history = []\n",
        "\n",
        "  for epoch_idx in range(EPOCHS):\n",
        "      print(\"-----------------------------------\")\n",
        "      print(\"Epoch %d\" % (epoch_idx+1))\n",
        "      print(\"-----------------------------------\")\n",
        "\n",
        "      train_loss, avg_train_loss = train(model, train_loader, optimizer, criterion, device=device)\n",
        "      scheduler.step(train_loss)\n",
        "\n",
        "      val_loss, avg_val_loss = evaluate(model, valid_loader, criterion, device=device)\n",
        "\n",
        "      train_perplexity_history.append(np.exp(avg_train_loss))\n",
        "      valid_perplexity_history.append(np.exp(avg_val_loss))\n",
        "\n",
        "      print(\"Training Loss: %.4f. Validation Loss: %.4f. \" % (avg_train_loss, avg_val_loss))\n",
        "      print(\"Training Perplexity: %.4f. Validation Perplexity: %.4f. \" % (np.exp(avg_train_loss), np.exp(avg_val_loss)))\n",
        "\n",
        "  plot_curves(train_perplexity_history, valid_perplexity_history, filename)"
      ]
    },
    {
      "cell_type": "code",
      "execution_count": null,
      "metadata": {
        "id": "iRbZ9ygLefhc"
      },
      "outputs": [],
      "source": [
        "filename='seq2seq_model'\n",
        "train_and_plot(seq2seq_model, optimizer, scheduler, criterion, filename)"
      ]
    },
    {
      "cell_type": "markdown",
      "metadata": {
        "id": "_VzSCxdPefhd"
      },
      "source": [
        "# **4: Train a Transformer**\n",
        "\n",
        "We will be implementing a one-layer Transformer **encoder** which, similar to an RNN, can encode a sequence of inputs and produce a final output of possibility of tokens in target language. This is the architecture:"
      ]
    },
    {
      "cell_type": "code",
      "execution_count": null,
      "metadata": {
        "id": "Oh9-f1YRefhd"
      },
      "outputs": [],
      "source": [
        "Image(filename=\"imgs/encoder.png\")"
      ]
    },
    {
      "cell_type": "markdown",
      "metadata": {
        "id": "yFxaE855efhe"
      },
      "source": [
        "You can refer to the [original paper](https://arxiv.org/pdf/1706.03762.pdf) for more details."
      ]
    },
    {
      "cell_type": "markdown",
      "metadata": {
        "id": "qVs0KDP0efhe"
      },
      "source": [
        "## The Corpus of Linguistic Acceptability (CoLA)\n",
        "\n",
        "The Corpus of Linguistic Acceptability ([CoLA](https://nyu-mll.github.io/CoLA/)) in its full form consists of 10657 sentences from 23 linguistics publications, expertly annotated for acceptability (grammaticality) by their original authors. Native English speakers consistently report a sharp contrast in acceptability between pairs of sentences.\n",
        "Some examples include:\n",
        "\n",
        "`What did Betsy paint a picture of?` (Correct)\n",
        "\n",
        "`What was a picture of painted by Betsy?` (Incorrect)\n",
        "\n",
        "You can read more info about the dataset [here](https://arxiv.org/pdf/1805.12471.pdf). This is a binary classification task (predict 1 for correct grammar and 0 otherwise).\n",
        "\n",
        "We will be using this dataset as a sanity checker for the forward pass of the Transformer architecture discussed in class. The general intuitive notion is that we will _encode_ the sequence of tokens in the sentence, and then predict a binary output based on the final state that is the output of the model."
      ]
    },
    {
      "cell_type": "markdown",
      "metadata": {
        "id": "z-S4wWKRefhe"
      },
      "source": [
        "## Load the preprocessed data\n",
        "\n",
        "We've appended a \"CLS\" token to the beginning of each sequence, which can be used to make predictions. The benefit of appending this token to the beginning of the sequence (rather than the end) is that we can extract it quite easily (we don't need to remove paddings and figure out the length of each individual sequence in the batch). We'll come back to this.\n",
        "\n",
        "We've additionally already constructed a vocabulary and converted all of the strings of tokens into integers which can be used for vocabulary lookup for you. Feel free to explore the data here."
      ]
    },
    {
      "cell_type": "code",
      "execution_count": null,
      "metadata": {
        "id": "1eZXnK7eefhe"
      },
      "outputs": [],
      "source": [
        "train_inxs = np.load('./data/train_inxs.npy')\n",
        "val_inxs = np.load('./data/val_inxs.npy')\n",
        "train_labels = np.load('./data/train_labels.npy')\n",
        "val_labels = np.load('./data/val_labels.npy')\n",
        "\n",
        "# load dictionary\n",
        "word_to_ix = {}\n",
        "with open(\"./data/word_to_ix.csv\", \"r\", encoding='utf-8') as f:\n",
        "    reader = csv.reader(f)\n",
        "    for line in reader:\n",
        "        word_to_ix[line[0]] = line[1]\n",
        "print(\"Vocabulary Size:\", len(word_to_ix))\n",
        "\n",
        "print(train_inxs.shape) # 7000 training instances, of (maximum/padded) length 43 words.\n",
        "print(val_inxs.shape) # 1551 validation instances, of (maximum/padded) length 43 words.\n",
        "print(train_labels.shape)\n",
        "print(val_labels.shape)\n",
        "\n",
        "d1 = torch.load('./data/d1.pt')\n",
        "d2 = torch.load('./data/d2.pt')\n",
        "d3 = torch.load('./data/d3.pt')\n",
        "d4 = torch.load('./data/d4.pt')"
      ]
    },
    {
      "cell_type": "markdown",
      "metadata": {
        "id": "YUUUtdmbefhf"
      },
      "source": [
        "Instead of using numpy for this model, we will be using Pytorch to implement the forward pass. You will not need to implement the backward pass for the various layers in this assigment.\n",
        "\n",
        "The file `models/Transformer.py` contains the model class and methods for each layer. This is where you will write your implementations."
      ]
    },
    {
      "cell_type": "markdown",
      "metadata": {
        "id": "N49WZFwdefhf"
      },
      "source": [
        "## **4.1: Embeddings**\n",
        "\n",
        "We will format our input embeddings similarly to how they are constructed in [BERT (source of figure)](https://arxiv.org/pdf/1810.04805.pdf). Recall from lecture that unlike a RNN, a Transformer does not include any positional information about the order in which the words in the sentence occur. Because of this, we need to append a positional encoding token at each position. (We will ignore the segment embeddings and [SEP] token here, since we are only encoding one sentence at a time). We have already appended the [CLS] token for you in the previous step.\n",
        "\n",
        "\n"
      ]
    },
    {
      "cell_type": "code",
      "execution_count": null,
      "metadata": {
        "id": "jBE-urJ6efhf"
      },
      "outputs": [],
      "source": [
        "Image(filename=\"imgs/embedding.png\")"
      ]
    },
    {
      "cell_type": "markdown",
      "metadata": {
        "id": "XsNweNb6efhf"
      },
      "source": [
        "Your first task is to implement the embedding lookup, including the addition of positional encodings. Open the file `Transformer.py` and complete all code parts for `Deliverable 1`."
      ]
    },
    {
      "cell_type": "code",
      "execution_count": null,
      "metadata": {
        "id": "HoelwPQSefhg"
      },
      "outputs": [],
      "source": [
        "from models.Transformer import TransformerTranslator\n",
        "inputs = train_inxs[0:2]\n",
        "inputs = torch.LongTensor(inputs)\n",
        "\n",
        "model = TransformerTranslator(input_size=len(word_to_ix), output_size=2, device=device, hidden_dim=128, num_heads=2, dim_feedforward=2048, dim_k=96, dim_v=96, dim_q=96, max_length=train_inxs.shape[1])\n",
        "\n",
        "embeds = model.embed(inputs)\n",
        "\n",
        "try:\n",
        "    print(\"Difference:\", torch.sum(torch.pairwise_distance(embeds, d1)).item()) # should be very small (<0.01)\n",
        "except:\n",
        "    print(\"NOT IMPLEMENTED\")"
      ]
    },
    {
      "cell_type": "markdown",
      "metadata": {
        "id": "CPrD-eJoefhg"
      },
      "source": [
        "## **4.2: Multi-head Self-Attention**\n",
        "\n",
        "Attention can be computed in matrix-form using the following formula:"
      ]
    },
    {
      "cell_type": "code",
      "execution_count": null,
      "metadata": {
        "id": "2R955b8Hefhg"
      },
      "outputs": [],
      "source": [
        "Image(filename=\"imgs/attn.png\")"
      ]
    },
    {
      "cell_type": "markdown",
      "metadata": {
        "id": "pN2AolSLefhg"
      },
      "source": [
        "We want to have multiple self-attention operations, computed in parallel. Each of these is called a *head*. We concatenate the heads and multiply them with the matrix `attention_head_projection` to produce the output of this layer.\n",
        "\n",
        "After every multi-head self-attention and feedforward layer, there is a residual connection + layer normalization. Make sure to implement this, using the following formula:\n",
        "\n",
        "\n"
      ]
    },
    {
      "cell_type": "code",
      "execution_count": null,
      "metadata": {
        "id": "eWCXx14cefhh"
      },
      "outputs": [],
      "source": [
        "Image(filename=\"imgs/layer_norm.png\")"
      ]
    },
    {
      "cell_type": "markdown",
      "metadata": {
        "id": "aIuT253Iefhh"
      },
      "source": [
        "Open the file `models/transformer.py` and implement the `multihead_attention` function.\n",
        "We have already initialized all of the layers you will need in the constructor."
      ]
    },
    {
      "cell_type": "code",
      "execution_count": null,
      "metadata": {
        "id": "QX4cYmZ3efhh"
      },
      "outputs": [],
      "source": [
        "hidden_states = model.multi_head_attention(embeds)\n",
        "\n",
        "try:\n",
        "    print(\"Difference:\", torch.sum(torch.pairwise_distance(hidden_states, d2)).item()) # should be very small (<0.01)\n",
        "except:\n",
        "    print(\"NOT IMPLEMENTED\")"
      ]
    },
    {
      "cell_type": "markdown",
      "metadata": {
        "id": "aS0afPPDefhh"
      },
      "source": [
        "## **4.3: Element-Wise Feed-forward Layer**\n",
        "\n",
        "Open the file `models/transformer.py` and complete code for `Deliverable 3`: the element-wise feed-forward layer consisting of two linear transformers with a ReLU layer in between.\n",
        "\n",
        "\n"
      ]
    },
    {
      "cell_type": "code",
      "execution_count": null,
      "metadata": {
        "id": "7__n-8puefhi"
      },
      "outputs": [],
      "source": [
        "Image(filename=\"imgs/ffn.png\")"
      ]
    },
    {
      "cell_type": "code",
      "execution_count": null,
      "metadata": {
        "id": "f4hxfoMaefhi"
      },
      "outputs": [],
      "source": [
        "outputs = model.feedforward_layer(hidden_states)\n",
        "\n",
        "try:\n",
        "    print(\"Difference:\", torch.sum(torch.pairwise_distance(outputs, d3)).item()) # should be very small (<0.01)\n",
        "except:\n",
        "    print(\"NOT IMPLEMENTED\")"
      ]
    },
    {
      "cell_type": "markdown",
      "metadata": {
        "id": "-oU3skwOefhi"
      },
      "source": [
        "## **4.4: Final Layer**\n",
        "\n",
        "Open the file `models/transformer.py` and complete code for `Deliverable 4`, to produce probability scores for all tokens in target language."
      ]
    },
    {
      "cell_type": "code",
      "execution_count": null,
      "metadata": {
        "id": "D3De-L1Yefhi"
      },
      "outputs": [],
      "source": [
        "scores = model.final_layer(outputs)\n",
        "\n",
        "try:\n",
        "    print(\"Difference:\", torch.sum(torch.pairwise_distance(scores, d4)).item()) # should be very small (<3e-4)\n",
        "except:\n",
        "    print(\"NOT IMPLEMENTED\")"
      ]
    },
    {
      "cell_type": "markdown",
      "metadata": {
        "id": "KqV-7w2wefhj"
      },
      "source": [
        "## **4.5: Putting it all together**\n",
        "\n",
        "Open the file `models/transformer.py` and complete the method `forward`, by putting together all of the methods you have developed in the right order to perform a full forward pass.\n"
      ]
    },
    {
      "cell_type": "code",
      "execution_count": null,
      "metadata": {
        "id": "h3OiFe6Defhj"
      },
      "outputs": [],
      "source": [
        "inputs = train_inxs[0:2]\n",
        "inputs = torch.LongTensor(inputs)\n",
        "inputs.to(device)\n",
        "outputs = model.forward(inputs)\n",
        "\n",
        "try:\n",
        "    print(\"Difference:\", torch.sum(torch.pairwise_distance(outputs, scores)).item()) # should be very small (<3e-4)\n",
        "except:\n",
        "    print(\"NOT IMPLEMENTED\")"
      ]
    },
    {
      "cell_type": "markdown",
      "metadata": {
        "id": "CoEvB0jcefhj"
      },
      "source": [
        "Great! We've just implemented a Transformer forward pass for translation. One of the big perks of using PyTorch is that with a simple training loop, we can rely on automatic differentation ([autograd](https://pytorch.org/tutorials/beginner/blitz/autograd_tutorial.html)) to do the work of the backward pass for us. This is not required for this assignment, but you can explore this on your own."
      ]
    },
    {
      "cell_type": "markdown",
      "metadata": {
        "id": "pr_Ehyqvefhk"
      },
      "source": [
        "## **4.6: Train the Transformer**\n",
        "Now you can start training the Transformer translator. We provided you with some training code and you can simply run them to see how your translator works. If you implemented everything correctly, you should see some meaningful translation in the output. Compare the results from the Seq2Seq model, which one is better? You can modify the hyperparameters to improve the results. You can also tune the BATCH_SIZE in section 1.2."
      ]
    },
    {
      "cell_type": "code",
      "execution_count": null,
      "metadata": {
        "id": "cHpZSsPQefhk"
      },
      "outputs": [],
      "source": [
        "# Hyperparameters\n",
        "learning_rate = 1e-3\n",
        "EPOCHS = 10\n",
        "\n",
        "# Model\n",
        "trans_model = TransformerTranslator(input_size, output_size, device, max_length = MAX_LEN).to(device)\n",
        "\n",
        "# optimizer = optim.Adam(model.parameters(), lr = learning_rate)\n",
        "optimizer = torch.optim.Adam(trans_model.parameters(), lr=learning_rate)\n",
        "scheduler = torch.optim.lr_scheduler.ReduceLROnPlateau(optimizer)\n",
        "criterion = nn.CrossEntropyLoss(ignore_index=PAD_IDX)"
      ]
    },
    {
      "cell_type": "code",
      "execution_count": null,
      "metadata": {
        "id": "biCi-lFHefhk"
      },
      "outputs": [],
      "source": [
        "filename='trans_model'\n",
        "train_and_plot(trans_model, optimizer, scheduler, criterion, filename)"
      ]
    },
    {
      "cell_type": "markdown",
      "metadata": {
        "id": "UefIcouAziQl"
      },
      "source": [
        "## **4.7: Implement and train a full transformer (encoder/decoder)**\n",
        "In the previous section, you implemented the encoder module of a transformer from scratch. In this section, you use pytorch built-in transformer module to build your translator model.\n",
        "you can start training the Transformer translator. We provided you with some training code and you can simply run them to see how your translator works. If you implemented everything correctly, you should see some meaningful translation in the output. Compare the results from the transformer (encoder only) model, which one is better? You can modify the hyperparameters to improve the results. You can also tune the BATCH_SIZE in section 1.2."
      ]
    },
    {
      "cell_type": "code",
      "execution_count": null,
      "metadata": {
        "id": "yUss0wbue8U5"
      },
      "outputs": [],
      "source": [
        "from models.Transformer import FullTransformerTranslator\n",
        "# you will be implementing and testing the forward function here. During training, inaddition to inputs, targets are also passed to the forward function\n",
        "set_seed_nb()\n",
        "inputs = train_inxs[0:3]\n",
        "inputs[:,0]=0\n",
        "inputs = torch.LongTensor(inputs)\n",
        "inputs.to('cpu')\n",
        "# Model\n",
        "full_trans_model = FullTransformerTranslator(input_size=len(word_to_ix), output_size=5, device='cpu', hidden_dim=128, num_heads=2, dim_feedforward=2048, max_length=train_inxs.shape[1]).to('cpu')\n",
        "\n",
        "tgt_array = np.random.rand(inputs.shape[0], inputs.shape[1])\n",
        "targets = torch.LongTensor(tgt_array)\n",
        "targets.to('cpu')\n",
        "outputs = full_trans_model.forward(inputs,targets)\n",
        "\n",
        "if outputs is not None:\n",
        "    expected_out = unit_test_values('full_trans_fwd')\n",
        "    print('Close to outputs: ', expected_out.allclose(outputs, atol=1e-4))\n",
        "else:\n",
        "    print(\"NOT IMPLEMENTED\")\n"
      ]
    },
    {
      "cell_type": "code",
      "execution_count": null,
      "metadata": {
        "id": "SmdFF3d7vqaQ"
      },
      "outputs": [],
      "source": [
        "# you will be implementing the generate_translation function which is called at the time of interence to translate the inputs. This is done in an autoregressive manner very similar to how you implemented the seq2seq model earlier\n",
        "inputs = train_inxs[3:6]\n",
        "inputs[:,0]=0\n",
        "inputs = torch.LongTensor(inputs)\n",
        "inputs.to('cpu')\n",
        "full_trans_model = FullTransformerTranslator(input_size=len(word_to_ix), output_size=5, device='cpu', hidden_dim=128, num_heads=2, dim_feedforward=2048, max_length=train_inxs.shape[1]).to('cpu')\n",
        "outputs = full_trans_model.generate_translation(inputs)\n",
        "\n",
        "if outputs is not None:\n",
        "    expected_out = unit_test_values('full_trans_translate')\n",
        "    print('Close to outputs: ', expected_out.allclose(outputs, atol=1e-4))\n",
        "else:\n",
        "    print(\"NOT IMPLEMENTED\")\n"
      ]
    },
    {
      "cell_type": "code",
      "execution_count": null,
      "metadata": {
        "id": "KFAvt50Lmus2"
      },
      "outputs": [],
      "source": [
        "# Hyperparameters\n",
        "learning_rate = 1e-3\n",
        "EPOCHS = 10\n",
        "\n",
        "# Model\n",
        "full_trans_model = FullTransformerTranslator(input_size, output_size, device, max_length = MAX_LEN, ignore_index=PAD_IDX).to(device)\n",
        "\n",
        "optimizer = torch.optim.Adam(full_trans_model.parameters(), lr=learning_rate)\n",
        "scheduler = torch.optim.lr_scheduler.ReduceLROnPlateau(optimizer)\n",
        "criterion = nn.CrossEntropyLoss(ignore_index=PAD_IDX)"
      ]
    },
    {
      "cell_type": "code",
      "execution_count": null,
      "metadata": {
        "id": "FVpvojgtnH_Y"
      },
      "outputs": [],
      "source": [
        "filename='full_trans_model'\n",
        "train_and_plot(full_trans_model, optimizer, scheduler, criterion, filename)"
      ]
    },
    {
      "cell_type": "markdown",
      "metadata": {
        "id": "RcS_FVV7efhk"
      },
      "source": [
        "**Translations**\n",
        "\n",
        "Run the code below to see some of your translations. Modify to your liking."
      ]
    },
    {
      "cell_type": "code",
      "execution_count": null,
      "metadata": {
        "id": "7mfI9LW1efhl"
      },
      "outputs": [],
      "source": [
        "def translate(model, dataloader):\n",
        "    model.eval()\n",
        "    with torch.no_grad():\n",
        "        # Get the progress bar\n",
        "        progress_bar = tqdm(dataloader, ascii = True)\n",
        "        for batch_idx, data in enumerate(progress_bar):\n",
        "            source = data[0].transpose(1,0).to(device)\n",
        "            target = data[1].transpose(1,0).to(device)\n",
        "            if model.__class__.__name__ == 'FullTransformerTranslator':\n",
        "                translation = model.generate_translation(source)\n",
        "            else:\n",
        "                translation = model(source)\n",
        "            return target, translation"
      ]
    },
    {
      "cell_type": "code",
      "execution_count": null,
      "metadata": {
        "id": "RcpQ-rjQefhl"
      },
      "outputs": [],
      "source": [
        "# Select Transformer or Seq2Seq model\n",
        "#model = trans_model\n",
        "#model = seq2seq_model\n",
        "model = full_trans_model"
      ]
    },
    {
      "cell_type": "code",
      "execution_count": null,
      "metadata": {
        "id": "DHj549UWefhl"
      },
      "outputs": [],
      "source": [
        "#Set model equal to trans_model or seq2seq_model\n",
        "target, translation = translate(model, test_loader)"
      ]
    },
    {
      "cell_type": "code",
      "execution_count": null,
      "metadata": {
        "id": "wL-h_6ovefhl"
      },
      "outputs": [],
      "source": [
        "#Get the english sentences\n",
        "raw = np.array([list(map(lambda x: en_vocab.get_itos()[x], target[i])) for i in range(target.shape[0])])"
      ]
    },
    {
      "cell_type": "code",
      "execution_count": null,
      "metadata": {
        "id": "D8hY5r55efhm"
      },
      "outputs": [],
      "source": [
        "raw[0:9]"
      ]
    },
    {
      "cell_type": "code",
      "execution_count": null,
      "metadata": {
        "id": "5DnVfl6wefhm"
      },
      "outputs": [],
      "source": [
        "#Get the back translations for comparison\n",
        "token_trans = np.argmax(translation.cpu().numpy(), axis = 2)\n",
        "translated = np.array([list(map(lambda x: en_vocab.get_itos()[x], token_trans[i])) for i in range(token_trans.shape[0])])"
      ]
    },
    {
      "cell_type": "code",
      "execution_count": null,
      "metadata": {
        "id": "Z5A8Et32efhm"
      },
      "outputs": [],
      "source": [
        "translated[0:9]"
      ]
    }
  ],
  "metadata": {
    "accelerator": "GPU",
    "colab": {
      "collapsed_sections": [
        "dfJtyp5Kefgy",
        "FDmu06h_efhI",
        "cTkd6oseefhS",
        "zZwBWMZzefhU",
        "_VzSCxdPefhd",
        "qVs0KDP0efhe",
        "z-S4wWKRefhe",
        "N49WZFwdefhf",
        "CPrD-eJoefhg",
        "aS0afPPDefhh",
        "-oU3skwOefhi",
        "KqV-7w2wefhj",
        "pr_Ehyqvefhk"
      ],
      "gpuType": "T4",
      "machine_shape": "hm",
      "provenance": [],
      "include_colab_link": true
    },
    "interpreter": {
      "hash": "0e75f62e3678e2cc45ba815b06d45149f3ef8e725365fb50a06024c1d0abc38d"
    },
    "kernelspec": {
      "display_name": "Python 3",
      "name": "python3"
    },
    "language_info": {
      "codemirror_mode": {
        "name": "ipython",
        "version": 3
      },
      "file_extension": ".py",
      "mimetype": "text/x-python",
      "name": "python",
      "nbconvert_exporter": "python",
      "pygments_lexer": "ipython3",
      "version": "3.12.0"
    }
  },
  "nbformat": 4,
  "nbformat_minor": 0
}